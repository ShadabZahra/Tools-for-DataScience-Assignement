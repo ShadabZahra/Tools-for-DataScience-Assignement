{
 "cells": [
  {
   "cell_type": "markdown",
   "id": "d1c7bf26",
   "metadata": {},
   "source": [
    "# My Jupyter Notebook on IBM Watson Studio"
   ]
  },
  {
   "cell_type": "markdown",
   "id": "5d0fb470",
   "metadata": {},
   "source": [
    "**Shadab Zahra**  \n",
    "I am a student enrolled in Computer Engineering Program and I am to become a Data Scientist "
   ]
  },
  {
   "cell_type": "markdown",
   "id": "cfee3e93",
   "metadata": {},
   "source": [
    "*I am interested in data science because I love playing with data. It has always been a dream to extract vital information from data. Data Science is not about just one skill, it makes you jake of all trait and I want to be the one who has all the fancy skills*"
   ]
  },
  {
   "cell_type": "markdown",
   "id": "a3b7f465",
   "metadata": {},
   "source": [
    "### Addition of two numbers"
   ]
  },
  {
   "cell_type": "code",
   "execution_count": 1,
   "id": "24dcccca",
   "metadata": {},
   "outputs": [
    {
     "data": {
      "text/plain": [
       "120"
      ]
     },
     "execution_count": 1,
     "metadata": {},
     "output_type": "execute_result"
    }
   ],
   "source": [
    "100 + 20"
   ]
  },
  {
   "cell_type": "markdown",
   "id": "75359372",
   "metadata": {},
   "source": [
    "### Mardown Cell\n",
    "In this cell we'll use the following items\n",
    "* Bulleted list\n",
    "* Numbered list\n",
    "* Picture\n",
    "* HyperLink\n",
    "* ~~Strike Through~~  \n",
    "Following links are used in this cell\n",
    "1. [Link for Picture](https://cf-courses-data.s3.us.cloud-object-storage.appdomain.cloud/assets/logos/SN_web_lightmode.png)\n",
    "2. [Coursera Link for Tools for Data Science](https://www.coursera.org/learn/open-source-tools-for-data-science/home/week/4)\n",
    "![alt text](https://cf-courses-data.s3.us.cloud-object-storage.appdomain.cloud/assets/logos/SN_web_lightmode.png \"IBM Logo\")"
   ]
  }
 ],
 "metadata": {
  "kernelspec": {
   "display_name": "Python 3 (ipykernel)",
   "language": "python",
   "name": "python3"
  },
  "language_info": {
   "codemirror_mode": {
    "name": "ipython",
    "version": 3
   },
   "file_extension": ".py",
   "mimetype": "text/x-python",
   "name": "python",
   "nbconvert_exporter": "python",
   "pygments_lexer": "ipython3",
   "version": "3.9.12"
  }
 },
 "nbformat": 4,
 "nbformat_minor": 5
}
